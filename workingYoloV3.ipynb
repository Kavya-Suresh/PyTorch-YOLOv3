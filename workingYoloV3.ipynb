{
  "nbformat": 4,
  "nbformat_minor": 0,
  "metadata": {
    "colab": {
      "name": "workingYoloV3.ipynb",
      "version": "0.3.2",
      "provenance": [],
      "collapsed_sections": [],
      "toc_visible": true
    },
    "kernelspec": {
      "name": "python3",
      "display_name": "Python 3"
    },
    "accelerator": "GPU"
  },
  "cells": [
    {
      "cell_type": "code",
      "metadata": {
        "id": "diieRemhUz5g",
        "colab_type": "code",
        "colab": {}
      },
      "source": [
        "from google.colab import drive\n",
        "drive.mount('/content/drive')"
      ],
      "execution_count": 0,
      "outputs": []
    },
    {
      "cell_type": "code",
      "metadata": {
        "id": "TOCkSYZ8UrRF",
        "colab_type": "code",
        "colab": {}
      },
      "source": [
        "!pip3 install terminaltables\n",
        "# Clone the entire repo.\n",
        "!git clone -l -s https://github.com/5hade5layer/PyTorch-YOLOv3 YOLOv3\n",
        "%cd YOLOv3\n",
        "!ls"
      ],
      "execution_count": 0,
      "outputs": []
    },
    {
      "cell_type": "markdown",
      "metadata": {
        "id": "PDdCiZNyCRew",
        "colab_type": "text"
      },
      "source": [
        "# upload the ***voc07_label.py inside data***  from my git before running the next cell"
      ]
    },
    {
      "cell_type": "code",
      "metadata": {
        "id": "LRfEsOou1tWG",
        "colab_type": "code",
        "colab": {}
      },
      "source": [
        "#download weights\n",
        "%cd weights\n",
        "!sh download_weights.sh\n",
        "#VOC 2007\n",
        "%cd ../data\n",
        "!wget http://pjreddie.com/media/files/VOCtrainval_06-Nov-2007.tar #VOC2007 train+val set\n",
        "!wget http://pjreddie.com/media/files/VOCtest_06-Nov-2007.tar #VOC2007 test\n",
        "!tar xf VOCtrainval_06-Nov-2007.tar\n",
        "!tar xf VOCtest_06-Nov-2007.tar\n",
        "!rm VOCtrainval_06-Nov-2007.tar\n",
        "!rm VOCtest_06-Nov-2007.tar\n",
        "# !python voc12_label.py\n",
        "!python voc07_label.py"
      ],
      "execution_count": 0,
      "outputs": []
    },
    {
      "cell_type": "code",
      "metadata": {
        "id": "C8__LjnOZInY",
        "colab_type": "code",
        "colab": {}
      },
      "source": [
        "#moving images to right place\n",
        "!cp VOCdevkit/VOC2007/JPEGImages/* custom/images\n",
        "#moving labels to right place\n",
        "!cp VOCdevkit/VOC2007/labels/* custom/labels"
      ],
      "execution_count": 0,
      "outputs": []
    },
    {
      "cell_type": "code",
      "metadata": {
        "id": "nvuZ33qGjH0a",
        "colab_type": "code",
        "colab": {}
      },
      "source": [
        "cd .."
      ],
      "execution_count": 0,
      "outputs": []
    },
    {
      "cell_type": "code",
      "metadata": {
        "id": "qLtpgalVevxh",
        "colab_type": "code",
        "colab": {}
      },
      "source": [
        "!rm checkpoints  "
      ],
      "execution_count": 0,
      "outputs": []
    },
    {
      "cell_type": "code",
      "metadata": {
        "id": "DKrzUgb3RInw",
        "colab_type": "code",
        "colab": {}
      },
      "source": [
        "!rm train.py"
      ],
      "execution_count": 0,
      "outputs": []
    },
    {
      "cell_type": "markdown",
      "metadata": {
        "id": "YxGdsqcVGJWB",
        "colab_type": "text"
      },
      "source": [
        "change path of  checkpoints in the next cell"
      ]
    },
    {
      "cell_type": "code",
      "metadata": {
        "id": "HAx7qN1hnB95",
        "colab_type": "code",
        "outputId": "dcdbed9e-8e21-4c48-caef-4ee08132d0ed",
        "colab": {
          "base_uri": "https://localhost:8080/",
          "height": 34
        }
      },
      "source": [
        "%%writefile train.py\n",
        "from __future__ import division\n",
        "\n",
        "from models import *\n",
        "from utils.logger import *\n",
        "from utils.utils import *\n",
        "from utils.datasets import *\n",
        "from utils.parse_config import *\n",
        "from test import evaluate\n",
        "\n",
        "from terminaltables import AsciiTable\n",
        "\n",
        "import os\n",
        "import sys\n",
        "import time\n",
        "import datetime\n",
        "import argparse\n",
        "\n",
        "import torch\n",
        "from torch.utils.data import DataLoader\n",
        "from torchvision import datasets\n",
        "from torchvision import transforms\n",
        "from torch.autograd import Variable\n",
        "import torch.optim as optim\n",
        "\n",
        "if __name__ == \"__main__\":\n",
        "    parser = argparse.ArgumentParser()\n",
        "    parser.add_argument(\"--epochs\", type=int, default=100, help=\"number of epochs\")\n",
        "    parser.add_argument(\"--batch_size\", type=int, default=8, help=\"size of each image batch\")\n",
        "    parser.add_argument(\"--gradient_accumulations\", type=int, default=2, help=\"number of gradient accums before step\")\n",
        "    parser.add_argument(\"--model_def\", type=str, default=\"config/yolov3.cfg\", help=\"path to model definition file\")\n",
        "    parser.add_argument(\"--data_config\", type=str, default=\"config/coco.data\", help=\"path to data config file\")\n",
        "    parser.add_argument(\"--pretrained_weights\", type=str, help=\"if specified starts from checkpoint model\")\n",
        "    parser.add_argument(\"--n_cpu\", type=int, default=8, help=\"number of cpu threads to use during batch generation\")\n",
        "    parser.add_argument(\"--img_size\", type=int, default=416, help=\"size of each image dimension\")\n",
        "    parser.add_argument(\"--checkpoint_interval\", type=int, default=1, help=\"interval between saving model weights\")\n",
        "    parser.add_argument(\"--evaluation_interval\", type=int, default=1, help=\"interval evaluations on validation set\")\n",
        "    parser.add_argument(\"--compute_map\", default=False, help=\"if True computes mAP every tenth batch\")\n",
        "    parser.add_argument(\"--multiscale_training\", default=True, help=\"allow for multi-scale training\")\n",
        "    opt = parser.parse_args()\n",
        "    print(opt)\n",
        "\n",
        "    logger = Logger(\"logs\")\n",
        "\n",
        "    device = torch.device(\"cuda\" if torch.cuda.is_available() else \"cpu\")\n",
        "\n",
        "    os.makedirs(\"output\", exist_ok=True)\n",
        "    os.makedirs(\"checkpoints\", exist_ok=True)\n",
        "\n",
        "    # Get data configuration\n",
        "    data_config = parse_data_config(opt.data_config)\n",
        "    train_path = data_config[\"train\"]\n",
        "    valid_path = data_config[\"valid\"]\n",
        "    class_names = load_classes(data_config[\"names\"])\n",
        "\n",
        "    # Initiate model\n",
        "    model = Darknet(opt.model_def).to(device)\n",
        "    model.apply(weights_init_normal)\n",
        "\n",
        "    # If specified we start from checkpoint\n",
        "    if opt.pretrained_weights:\n",
        "        if opt.pretrained_weights.endswith(\".pth\"):\n",
        "            model.load_state_dict(torch.load(opt.pretrained_weights))\n",
        "        else:\n",
        "            model.load_darknet_weights(opt.pretrained_weights)\n",
        "\n",
        "    # Get dataloader\n",
        "    dataset = ListDataset(train_path, augment=True, multiscale=opt.multiscale_training)\n",
        "    dataloader = torch.utils.data.DataLoader(\n",
        "        dataset,\n",
        "        batch_size=opt.batch_size,\n",
        "        shuffle=True,\n",
        "        num_workers=opt.n_cpu,\n",
        "        pin_memory=True,\n",
        "        collate_fn=dataset.collate_fn,\n",
        "    )\n",
        "\n",
        "    optimizer = torch.optim.Adam(model.parameters())\n",
        "\n",
        "    metrics = [\n",
        "        \"grid_size\",\n",
        "        \"loss\",\n",
        "        \"x\",\n",
        "        \"y\",\n",
        "        \"w\",\n",
        "        \"h\",\n",
        "        \"conf\",\n",
        "        \"cls\",\n",
        "        \"cls_acc\",\n",
        "        \"recall50\",\n",
        "        \"recall75\",\n",
        "        \"precision\",\n",
        "        \"conf_obj\",\n",
        "        \"conf_noobj\",\n",
        "    ]\n",
        "\n",
        "    for epoch in range(opt.epochs):\n",
        "        model.train()\n",
        "        start_time = time.time()\n",
        "        for batch_i, (_, imgs, targets) in enumerate(dataloader):\n",
        "            batches_done = len(dataloader) * epoch + batch_i\n",
        "\n",
        "            imgs = Variable(imgs.to(device))\n",
        "            targets = Variable(targets.to(device), requires_grad=False)\n",
        "\n",
        "            loss, outputs = model(imgs, targets)\n",
        "            loss.backward()\n",
        "\n",
        "            if batches_done % opt.gradient_accumulations:\n",
        "                # Accumulates gradient before each step\n",
        "                optimizer.step()\n",
        "                optimizer.zero_grad()\n",
        "\n",
        "            # ----------------\n",
        "            #   Log progress\n",
        "            # ----------------\n",
        "\n",
        "            log_str = \"\\n---- [Epoch %d/%d, Batch %d/%d] ----\" % (epoch, opt.epochs, batch_i, len(dataloader))\n",
        "\n",
        "            metric_table = [[\"Metrics\", *[f\"YOLO Layer {i}\" for i in range(len(model.yolo_layers))]]]\n",
        "\n",
        "            # Log metrics at each YOLO layer\n",
        "            for i, metric in enumerate(metrics):\n",
        "                formats = {m: \"%.6f\" for m in metrics}\n",
        "                formats[\"grid_size\"] = \"%2d\"\n",
        "                formats[\"cls_acc\"] = \"%.2f%%\"\n",
        "                row_metrics = [formats[metric] % yolo.metrics.get(metric, 0) for yolo in model.yolo_layers]\n",
        "                metric_table += [[metric, *row_metrics]]\n",
        "\n",
        "                # Tensorboard logging\n",
        "                tensorboard_log = []\n",
        "                for j, yolo in enumerate(model.yolo_layers):\n",
        "                    for name, metric in yolo.metrics.items():\n",
        "                        if name != \"grid_size\":\n",
        "                            tensorboard_log += [(f\"{name}_{j+1}\", metric)]\n",
        "                tensorboard_log += [(\"loss\", loss.item())]\n",
        "                logger.list_of_scalars_summary(tensorboard_log, batches_done)\n",
        "\n",
        "            log_str += f\"\\nTotal loss {loss.item()}\"\n",
        "\n",
        "            # Determine approximate time left for epoch\n",
        "            epoch_batches_left = len(dataloader) - (batch_i + 1)\n",
        "            time_left = datetime.timedelta(seconds=epoch_batches_left * (time.time() - start_time) / (batch_i + 1))\n",
        "            #log_str += AsciiTable(metric_table).table\n",
        "            log_str += f\"\\n---- ETA {time_left}\"\n",
        "\n",
        "            print(log_str)\n",
        "\n",
        "            model.seen += imgs.size(0)\n",
        "\n",
        "        if epoch % opt.evaluation_interval == 0:\n",
        "            print(\"\\n---- Evaluating Model ----\")\n",
        "            # Evaluate the model on the validation set\n",
        "            precision, recall, AP, f1, ap_class = evaluate(\n",
        "                model,\n",
        "                path=valid_path,\n",
        "                iou_thres=0.5,\n",
        "                conf_thres=0.5,\n",
        "                nms_thres=0.5,\n",
        "                img_size=opt.img_size,\n",
        "                batch_size=8,\n",
        "            )\n",
        "            evaluation_metrics = [\n",
        "                (\"val_precision\", precision.mean()),\n",
        "                (\"val_recall\", recall.mean()),\n",
        "                (\"val_mAP\", AP.mean()),\n",
        "                (\"val_f1\", f1.mean()),\n",
        "            ]\n",
        "            logger.list_of_scalars_summary(evaluation_metrics, epoch)\n",
        "\n",
        "            # Print class APs and mAP\n",
        "            ap_table = [[\"Index\", \"Class name\", \"AP\"]]\n",
        "            for i, c in enumerate(ap_class):\n",
        "                ap_table += [[c, class_names[c], \"%.5f\" % AP[i]]]\n",
        "            print(AsciiTable(ap_table).table)\n",
        "            print(f\"---- mAP {AP.mean()}\")\n",
        "\n",
        "        if epoch % opt.checkpoint_interval == 0:\n",
        "            torch.save(model.state_dict(),\"../drive/My Drive/__________/yolov3_ckpt.pth\")"
      ],
      "execution_count": 0,
      "outputs": [
        {
          "output_type": "stream",
          "text": [
            "Writing train.py\n"
          ],
          "name": "stdout"
        }
      ]
    },
    {
      "cell_type": "markdown",
      "metadata": {
        "id": "RJcTlv1NGyAl",
        "colab_type": "text"
      },
      "source": [
        "# inside **custom** add **train.txt & valid.txt** from the mail"
      ]
    },
    {
      "cell_type": "code",
      "metadata": {
        "colab_type": "code",
        "id": "nmTgZwjEKP5W",
        "colab": {}
      },
      "source": [
        "#train - change the pretrained weight's path \n",
        "!python3 train.py --epochs 22 --pretrained_weights \"../drive/My Drive/Learn/checkpoints/99.pth\" --checkpoint_interval 3 --evaluation_interval 3 --batch_size 8 --model_def config/yolov3-custom.cfg --data_config config/custom.data"
      ],
      "execution_count": 0,
      "outputs": []
    },
    {
      "cell_type": "code",
      "metadata": {
        "id": "7ersALjsJxe0",
        "colab_type": "code",
        "colab": {
          "base_uri": "https://localhost:8080/",
          "height": 1000
        },
        "outputId": "e7e7e564-fabe-4bfc-d2d8-44f56e7e79d9"
      },
      "source": [
        "!python detect.py --model_def config/yolov3-custom.cfg --image_folder data/samples --weights_path \"../drive/My Drive/Learn/121.pth\" --class_path data/custom/classes.names --img_size 416"
      ],
      "execution_count": 19,
      "outputs": [
        {
          "output_type": "stream",
          "text": [
            "Namespace(batch_size=1, checkpoint_model=None, class_path='data/custom/classes.names', conf_thres=0.8, image_folder='data/samples', img_size=416, model_def='config/yolov3-custom.cfg', n_cpu=0, nms_thres=0.4, weights_path='../drive/My Drive/Learn/121.pth')\n",
            "\n",
            "Performing object detection:\n",
            "\t+ Batch 0, Inference Time: 0:00:00.090613\n",
            "\t+ Batch 1, Inference Time: 0:00:00.058599\n",
            "\t+ Batch 2, Inference Time: 0:00:00.055830\n",
            "\t+ Batch 3, Inference Time: 0:00:00.045346\n",
            "\t+ Batch 4, Inference Time: 0:00:00.057554\n",
            "\t+ Batch 5, Inference Time: 0:00:00.068840\n",
            "\t+ Batch 6, Inference Time: 0:00:00.039734\n",
            "\t+ Batch 7, Inference Time: 0:00:00.034757\n",
            "\t+ Batch 8, Inference Time: 0:00:00.035497\n",
            "\n",
            "Saving images:\n",
            "(0) Image: 'data/samples/dog.jpg'\n",
            "\t+ Label: car, Conf: 0.99359\n",
            "\t+ Label: dog, Conf: 0.91606\n",
            "\t+ Label: motorbike, Conf: 0.74705\n",
            "\t+ Label: car, Conf: 0.38737\n",
            "\t+ Label: bicycle, Conf: 0.19916\n",
            "(1) Image: 'data/samples/eagle.jpg'\n",
            "\t+ Label: dog, Conf: 0.79238\n",
            "\t+ Label: bird, Conf: 0.51149\n",
            "(2) Image: 'data/samples/field.jpg'\n",
            "\t+ Label: person, Conf: 0.99638\n",
            "\t+ Label: dog, Conf: 0.48728\n",
            "\t+ Label: cow, Conf: 0.47368\n",
            "\t+ Label: cow, Conf: 0.42555\n",
            "\t+ Label: dog, Conf: 0.41127\n",
            "\t+ Label: horse, Conf: 0.42492\n",
            "\t+ Label: sheep, Conf: 0.31410\n",
            "\t+ Label: sheep, Conf: 0.30791\n",
            "(3) Image: 'data/samples/giraffe.jpg'\n",
            "\t+ Label: bicycle, Conf: 0.31185\n",
            "\t+ Label: pottedplant, Conf: 0.25837\n",
            "(4) Image: 'data/samples/herd_of_horses.jpg'\n",
            "\t+ Label: cow, Conf: 0.92048\n",
            "\t+ Label: cow, Conf: 0.73751\n",
            "\t+ Label: sheep, Conf: 0.59486\n",
            "\t+ Label: cow, Conf: 0.40172\n",
            "\t+ Label: dog, Conf: 0.33717\n",
            "(5) Image: 'data/samples/messi.jpg'\n",
            "\t+ Label: person, Conf: 0.99986\n",
            "\t+ Label: person, Conf: 0.98328\n",
            "(6) Image: 'data/samples/person.jpg'\n",
            "\t+ Label: person, Conf: 0.99409\n",
            "(7) Image: 'data/samples/room.jpg'\n",
            "\t+ Label: chair, Conf: 0.90573\n",
            "\t+ Label: chair, Conf: 0.87198\n",
            "\t+ Label: tvmonitor, Conf: 0.43305\n",
            "\t+ Label: boat, Conf: 0.19662\n",
            "(8) Image: 'data/samples/street.jpg'\n",
            "\t+ Label: car, Conf: 1.00000\n",
            "\t+ Label: car, Conf: 0.99999\n",
            "\t+ Label: car, Conf: 0.99998\n",
            "\t+ Label: car, Conf: 0.99940\n",
            "\t+ Label: car, Conf: 0.99962\n",
            "\t+ Label: car, Conf: 0.99576\n",
            "\t+ Label: car, Conf: 0.98747\n",
            "\t+ Label: car, Conf: 0.99766\n"
          ],
          "name": "stdout"
        }
      ]
    }
  ]
}